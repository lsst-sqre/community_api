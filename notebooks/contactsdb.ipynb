{
 "cells": [
  {
   "cell_type": "code",
   "execution_count": null,
   "metadata": {
    "collapsed": true
   },
   "outputs": [],
   "source": [
    "import csv\n",
    "import os\n",
    "from collections import namedtuple\n",
    "\n",
    "KEY = os.getenv('DISCOURSE_KEY')\n",
    "USER = os.getenv('DISCOURSE_USER')\n",
    "BASE = 'https://community.lsst.org'"
   ]
  },
  {
   "cell_type": "code",
   "execution_count": null,
   "metadata": {
    "collapsed": false
   },
   "outputs": [],
   "source": [
    "contacts_path = '/Users/jsick/Downloads/contactdbexport.csv'\n",
    "\n",
    "Person = namedtuple('Person', ['first', 'last', 'email', 'phone', 'company', 'category', 'role'])\n",
    "\n",
    "contacts = {}\n",
    "\n",
    "with open(contacts_path, encoding='utf-8') as f:\n",
    "    reader = csv.reader(f)\n",
    "    _ = next(reader)  # skip header\n",
    "    for row in reader:\n",
    "        if len(row) == 1:\n",
    "            continue\n",
    "        p = Person(*[s.strip() for s in row[:7]])\n",
    "        if p.email not in contacts:\n",
    "            contacts[p.email] = {\n",
    "                'name': ' '.join([p.first, p.last]),\n",
    "                'membership': {p.category: p.role}\n",
    "            }\n",
    "        else:\n",
    "            contacts[p.email]['membership'][p.category] = p.role"
   ]
  },
  {
   "cell_type": "code",
   "execution_count": null,
   "metadata": {
    "collapsed": false
   },
   "outputs": [],
   "source": [
    "groups = []\n",
    "for _, c in contacts.items():\n",
    "    groups.extend(c['membership'].keys())\n",
    "groups = set(groups)\n",
    "print(groups)"
   ]
  },
  {
   "cell_type": "code",
   "execution_count": null,
   "metadata": {
    "collapsed": true
   },
   "outputs": [],
   "source": []
  }
 ],
 "metadata": {
  "kernelspec": {
   "display_name": "Python 3",
   "language": "python",
   "name": "python3"
  },
  "language_info": {
   "codemirror_mode": {
    "name": "ipython",
    "version": 3
   },
   "file_extension": ".py",
   "mimetype": "text/x-python",
   "name": "python",
   "nbconvert_exporter": "python",
   "pygments_lexer": "ipython3",
   "version": "3.5.0"
  }
 },
 "nbformat": 4,
 "nbformat_minor": 1
}
