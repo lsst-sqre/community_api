{
 "cells": [
  {
   "cell_type": "code",
   "execution_count": null,
   "metadata": {
    "collapsed": false
   },
   "outputs": [],
   "source": [
    "import os\n",
    "import requests\n",
    "import pandas"
   ]
  },
  {
   "cell_type": "code",
   "execution_count": null,
   "metadata": {
    "collapsed": true
   },
   "outputs": [],
   "source": [
    "KEY = os.getenv('DISCOURSE_KEY')\n",
    "USER = os.getenv('DISCOURSE_USER')\n",
    "BASE = 'https://community.lsst.org'\n",
    "user_list_path = 'user-list-151016-044457-2.csv'"
   ]
  },
  {
   "cell_type": "code",
   "execution_count": null,
   "metadata": {
    "collapsed": false
   },
   "outputs": [],
   "source": [
    "def get_group_id(group_name, key=None, user=None, base_url=None):\n",
    "    groups = requests.get(base_url + '/admin/groups.json',\n",
    "                          params={'api_key': key, 'api_user': user}).json()\n",
    "    group_id = None\n",
    "    for group in groups:\n",
    "        if group['name'] == group_name:\n",
    "            group_id = group['id']\n",
    "    assert group_id is not None\n",
    "\n",
    "\n",
    "def update_tl_for_user(user_id, tl,\n",
    "                       key=None, user=None, base_url=None):\n",
    "    r = requests.put(base_url + '/admin/users/{0:d}/trust_level'.format(user_id),\n",
    "                     data={'user_id': user_id, 'level': tl},\n",
    "                     params={'api_key': key, 'api_user': user})\n",
    "    print(r.status_code)\n",
    "\n",
    "\n",
    "def update_title_for_user(user_id, title,\n",
    "                          key=None, user=None, base_url=None)\n",
    "    r = requests.put(base_url + '/admin/users/{0:d}/trust_level'.format(user_id),\n",
    "                     data={'user_id': user_id, 'level': tl},\n",
    "                     params={'api_key': key, 'api_user': user})\n",
    "    print(r.status_code)\n",
    "\n",
    "def users_in_group(group_name, excludes=None,\n",
    "                    user_data_path=None,\n",
    "                    key=None, user=None, base_url=None):\n",
    "    with open(user_data_path) as f:\n",
    "        user_table = pandas.read_csv(f)\n",
    "\n",
    "    for i, (_id, groups) in enumerate(zip(user_table['id'], user_table['group_names'])):\n",
    "        if group_name in groups:\n",
    "            if excludes:\n",
    "                should_skip = False\n",
    "                for excluded_group in excludes:\n",
    "                    if excluded_group in groups:\n",
    "                        should_skip = True\n",
    "            if not should_skip:\n",
    "                yield {'id': _id, 'username': user_table['username'][i]}\n",
    "\n",
    "\n",
    "def update_tl_for_group(group_name, tl,\n",
    "                        excludes=None,\n",
    "                        user_data_path=None,\n",
    "                        key=None, user=None, base_url=None):\n",
    "    group_id = get_group_id(group_name, key=key, user=user, base_url=base_url)\n",
    "    \n",
    "    for u in users_in_group(group_name,\n",
    "                            user_data_path=user_data_path,\n",
    "                            excludes=excludes,\n",
    "                            key=key, user=user, base_url=base_url):\n",
    "        user_id = u['id']\n",
    "        user_name = u['username']\n",
    "        print('Processing {1:d} {0}'.format(user_name, user_id))\n",
    "        update_tl_for_user(_id, tl,\n",
    "                           key=KEY, user=USER, base_url=BASE)"
   ]
  },
  {
   "cell_type": "markdown",
   "metadata": {},
   "source": [
    "Update the trust level for all members of LSSTDM to be level 4."
   ]
  },
  {
   "cell_type": "code",
   "execution_count": null,
   "metadata": {
    "collapsed": false
   },
   "outputs": [],
   "source": [
    "update_tl_for_group('LSSTDM', 4,\n",
    "                    user_data_path=user_list_path,\n",
    "                    key=KEY, user=USER, base_url=BASE)"
   ]
  },
  {
   "cell_type": "code",
   "execution_count": null,
   "metadata": {
    "collapsed": true
   },
   "outputs": [],
   "source": []
  }
 ],
 "metadata": {
  "kernelspec": {
   "display_name": "Python 3",
   "language": "python",
   "name": "python3"
  },
  "language_info": {
   "codemirror_mode": {
    "name": "ipython",
    "version": 3
   },
   "file_extension": ".py",
   "mimetype": "text/x-python",
   "name": "python",
   "nbconvert_exporter": "python",
   "pygments_lexer": "ipython3",
   "version": "3.5.0"
  }
 },
 "nbformat": 4,
 "nbformat_minor": 0
}
